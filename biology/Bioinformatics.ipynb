{
 "cells": [
  {
   "cell_type": "code",
   "execution_count": 1,
   "metadata": {},
   "outputs": [],
   "source": [
    "from Bio.Seq import Seq\n",
    "from Bio.Data import IUPACData "
   ]
  },
  {
   "cell_type": "code",
   "execution_count": 2,
   "metadata": {},
   "outputs": [],
   "source": [
    "# Database : NCBI                                                         \n",
    "# If we dont import fasta file                 \n",
    "# Sequencial part of Zygaena transalpina       \n",
    "zygaena_transalpina='''\n",
    "1 tttttatttt tagaatttta ttaatttgtt tataaattaa aaattatttt aaaattaaat\n",
    "61 aatttttata aaatatacta ttttgacaga taaatgtgat ggttttagaa atcatttata\n",
    "121 tataatttaa ttatgtaaat agtaaatgat tttaaaagat tatttaatat tttttattgg\n",
    "181 gattttattt ttaattttag gagttttaat tggagtggca tttttaactt tattagaacg\n",
    "241 taaagtttta ggttatattc aaattcgtaa ggggcctaat aaagtaggaa ttatagggat\n",
    "301 tttacagcca ttttctgatg ctattaagtt atttacaaag gaacaaactt atcctttatt\n",
    "361 ttctaattat gtgtcatatt atttttcacc aattattaga tttattttat ctttaataat\n",
    "421 ttgattatta attccttatt attttaatat aattagattt aatttaggaa taat\n",
    "'''\n",
    "\n",
    "def SeqToString(s):\n",
    "    ret=[x for x in s.split() if not x.isdigit()]\n",
    "    return ''.join(ret).upper()\n",
    "\n",
    "ret=SeqToString(zygaena_transalpina)\n",
    "#ret"
   ]
  },
  {
   "cell_type": "code",
   "execution_count": 3,
   "metadata": {},
   "outputs": [],
   "source": [
    "seq=Seq(ret)\n",
    "seq_complement=seq.complement()"
   ]
  },
  {
   "cell_type": "code",
   "execution_count": 4,
   "metadata": {},
   "outputs": [
    {
     "name": "stdout",
     "output_type": "stream",
     "text": [
      "TTTTTATTTTTAGAATTTTATTAATTTGTTTATAAATTAAAAATTATTTTAAAATTAAATAATTTTTATAAAATATACTATTTTGACAGATAAATGTGATGGTTTTAGAAATCATTTATATATAATTTAATTATGTAAATAGTAAATGATTTTAAAAGATTATTTAATATTTTTTATTGGGATTTTATTTTTAATTTTAGGAGTTTTAATTGGAGTGGCATTTTTAACTTTATTAGAACGTAAAGTTTTAGGTTATATTCAAATTCGTAAGGGGCCTAATAAAGTAGGAATTATAGGGATTTTACAGCCATTTTCTGATGCTATTAAGTTATTTACAAAGGAACAAACTTATCCTTTATTTTCTAATTATGTGTCATATTATTTTTCACCAATTATTAGATTTATTTTATCTTTAATAATTTGATTATTAATTCCTTATTATTTTAATATAATTAGATTTAATTTAGGAATAAT\n",
      "\n",
      "AAAAATAAAAATCTTAAAATAATTAAACAAATATTTAATTTTTAATAAAATTTTAATTTATTAAAAATATTTTATATGATAAAACTGTCTATTTACACTACCAAAATCTTTAGTAAATATATATTAAATTAATACATTTATCATTTACTAAAATTTTCTAATAAATTATAAAAAATAACCCTAAAATAAAAATTAAAATCCTCAAAATTAACCTCACCGTAAAAATTGAAATAATCTTGCATTTCAAAATCCAATATAAGTTTAAGCATTCCCCGGATTATTTCATCCTTAATATCCCTAAAATGTCGGTAAAAGACTACGATAATTCAATAAATGTTTCCTTGTTTGAATAGGAAATAAAAGATTAATACACAGTATAATAAAAAGTGGTTAATAATCTAAATAAAATAGAAATTATTAAACTAATAATTAAGGAATAATAAAATTATATTAATCTAAATTAAATCCTTATTA\n"
     ]
    }
   ],
   "source": [
    "print(seq+'\\n')\n",
    "print(seq_complement)"
   ]
  },
  {
   "cell_type": "code",
   "execution_count": 5,
   "metadata": {},
   "outputs": [
    {
     "name": "stdout",
     "output_type": "stream",
     "text": [
      "UUUUUAUUUUUAGAAUUUUAUUAAUUUGUUUAUAAAUUAAAAAUUAUUUUAAAAUUAAAUAAUUUUUAUAAAAUAUACUAUUUUGACAGAUAAAUGUGAUGGUUUUAGAAAUCAUUUAUAUAUAAUUUAAUUAUGUAAAUAGUAAAUGAUUUUAAAAGAUUAUUUAAUAUUUUUUAUUGGGAUUUUAUUUUUAAUUUUAGGAGUUUUAAUUGGAGUGGCAUUUUUAACUUUAUUAGAACGUAAAGUUUUAGGUUAUAUUCAAAUUCGUAAGGGGCCUAAUAAAGUAGGAAUUAUAGGGAUUUUACAGCCAUUUUCUGAUGCUAUUAAGUUAUUUACAAAGGAACAAACUUAUCCUUUAUUUUCUAAUUAUGUGUCAUAUUAUUUUUCACCAAUUAUUAGAUUUAUUUUAUCUUUAAUAAUUUGAUUAUUAAUUCCUUAUUAUUUUAAUAUAAUUAGAUUUAAUUUAGGAAUAAU\n"
     ]
    }
   ],
   "source": [
    "# T -> U\n",
    "rna=seq.transcribe()\n",
    "print(rna)"
   ]
  },
  {
   "cell_type": "code",
   "execution_count": 6,
   "metadata": {},
   "outputs": [
    {
     "name": "stdout",
     "output_type": "stream",
     "text": [
      "FLFLEFY*FVYKLKIILKLNNFYKIYYFDR*M*WF*KSFIYNLIM*IVNDFKRLFNIFYWDFIFNFRSFNWSGIFNFIRT*SFRLYSNS*GA**SRNYRDFTAIF*CY*VIYKGTNLSFIF*LCVILFFTNY*IYFIFNNLIINSLLF*YN*I*FRNN\n"
     ]
    }
   ],
   "source": [
    "# Getting protein\n",
    "# DNA -> mRNA -> AA\n",
    "protein=rna.translate()\n",
    "print(protein)"
   ]
  },
  {
   "cell_type": "code",
   "execution_count": 7,
   "metadata": {},
   "outputs": [],
   "source": [
    "# Graphic\n",
    "import matplotlib.pyplot as plt"
   ]
  },
  {
   "cell_type": "code",
   "execution_count": 8,
   "metadata": {},
   "outputs": [],
   "source": [
    "def create_dict(p):\n",
    "    ret={}\n",
    "    p=str(p).replace('*','')\n",
    "    for x in IUPACData.protein_letters:\n",
    "        ret[x]=0\n",
    "        \n",
    "    for x in p:\n",
    "        ret[x]+=1\n",
    "    \n",
    "    return ret,len(str(p))"
   ]
  },
  {
   "cell_type": "code",
   "execution_count": 9,
   "metadata": {},
   "outputs": [],
   "source": [
    "protein_dict,total=create_dict(protein)"
   ]
  },
  {
   "cell_type": "code",
   "execution_count": 10,
   "metadata": {},
   "outputs": [],
   "source": [
    "def split_to_list(d):\n",
    "    names=[k for k,v in d.items()]\n",
    "    values=[v for k,v in d.items()]\n",
    "    return names,values"
   ]
  },
  {
   "cell_type": "code",
   "execution_count": 11,
   "metadata": {
    "scrolled": false
   },
   "outputs": [
    {
     "data": {
      "text/plain": [
       "<BarContainer object of 20 artists>"
      ]
     },
     "execution_count": 11,
     "metadata": {},
     "output_type": "execute_result"
    },
    {
     "data": {
      "image/png": "[encoded data removed]",
      "text/plain": [
       "<Figure size 2160x432 with 1 Axes>"
      ]
     },
     "metadata": {
      "needs_background": "light"
     },
     "output_type": "display_data"
    }
   ],
   "source": [
    "plt.figure(figsize=(30, 6))\n",
    "plt.subplot(131)\n",
    "plt.ylabel('Amount (total={})'.format(total))\n",
    "plt.xlabel('Amino acid')\n",
    "names,values=split_to_list(protein_dict)\n",
    "plt.bar(names, values)"
   ]
  },
  {
   "cell_type": "code",
   "execution_count": 12,
   "metadata": {},
   "outputs": [
    {
     "data": {
      "application/vnd.jupyter.widget-view+json": {
       "model_id": "ab502f5d867643f8b80df8b3674bae90",
       "version_major": 2,
       "version_minor": 0
      },
      "text/plain": []
     },
     "metadata": {},
     "output_type": "display_data"
    }
   ],
   "source": [
    "# SARS-CoV-2 (6X2A)\n",
    "from Bio.PDB import *\n",
    "import nglview as nv"
   ]
  },
  {
   "cell_type": "code",
   "execution_count": 13,
   "metadata": {},
   "outputs": [],
   "source": [
    "# pdbl = PDBList()\n",
    "# pdbl.retrieve_pdb_file('6X2A')"
   ]
  },
  {
   "cell_type": "code",
   "execution_count": 14,
   "metadata": {},
   "outputs": [
    {
     "data": {
      "application/vnd.jupyter.widget-view+json": {
       "model_id": "d8b5df36c23940fc9fc2e0849abdc56e",
       "version_major": 2,
       "version_minor": 0
      },
      "text/plain": [
       "NGLWidget()"
      ]
     },
     "metadata": {},
     "output_type": "display_data"
    }
   ],
   "source": [
    "#Parsing the file\n",
    "struct=MMCIFParser().get_structure('6X2A', 'proteins/6x2a.cif')\n",
    "# Graphic env\n",
    "view=nv.show_biopython(struct)\n",
    "view.clear_representations() \n",
    "view.add_ball_and_stick()\n",
    "view"
   ]
  },
  {
   "cell_type": "code",
   "execution_count": 15,
   "metadata": {},
   "outputs": [],
   "source": [
    "# Import fasta file\n",
    "from Bio import SeqIO\n",
    "# Proteins"
   ]
  },
  {
   "cell_type": "code",
   "execution_count": 16,
   "metadata": {},
   "outputs": [
    {
     "data": {
      "text/plain": [
       "'6X2A_1|Chains A,B,C|Spike glycoprotein|Severe acute respiratory syndrome coronavirus 2 (2697049)'"
      ]
     },
     "execution_count": 16,
     "metadata": {},
     "output_type": "execute_result"
    }
   ],
   "source": [
    "record = SeqIO.read(\"proteins/rcsb_pdb_6X2A.fasta\", \"fasta\")\n",
    "record.description"
   ]
  },
  {
   "cell_type": "code",
   "execution_count": 17,
   "metadata": {},
   "outputs": [
    {
     "name": "stdout",
     "output_type": "stream",
     "text": [
      "VNLTTRTQLPPAYTNSFTRGVYYPDKVFRSSVLHSTQDLFLPFFSNVTWFHAIHVSGTNGTKRFDNPVLPFNDGVYFASTEKSNIIRGWIFGTTLDSKTQSLLIVNNATNVVIKVCEFQFCNDPFLGVYYHKNNKSWMESEFRVYSSANNCTFEYVSQPFLMDLEGKQGNFKNLREFVFKNIDGYFKIYSKHTPINLVRDLPQGFSALEPLVDLPIGINITRFQTLLALHRSYLTPGDSSSGWTAGAAAYYVGYLQPRTFLLKYNENGTITDAVDCALDPLSETKCTLKSFTVEKGIYQTSNFRVQPTESIVRFPNITNLCPFGEVFNATRFASVYAWNRKRISNCVADYSVLYNSASFSTFKCYGVSPTKLNDLCFTNVYADSFVIRGDEVRQIAPGQTGKIADYNYKLPDDFTGCVIAWNSNNLDSKVGGNYNYLYRLFRKSNLKPFERDISTEIYQAGSTPCNGVEGFNCYFPLQSYGFQPTNGVGYQPYRVVVLSFELLHAPATVCGPKKSTNLVKNKCVNFNFNGLTGTGVLTESNKKFLPFQQFGRDILDITDAVRDPQTLEILDITPCSFGGVSVITPGTNTSNEVAVLYQDVNCTEVPVAIHADQLTPTWRVYSTGSNVFQTRAGCLIGAEHVNNSYECDIPIGAGICASYQTQTNSPGSASSVASQSIIAYTMSLGAENSVAYSNNSIAIPTNFTISVTTEILPVSMTKTSVDCTMYICGDSTECSNLLLQYGSFCTQLNRALTGIAVEQDKNTQEVFAQVKQIYKTPPIKDFGGFNFSQILPDPSKPSKRSFIEDLLFNKVTLADAGFIKQYGDCLGDIAARDLICAQKYIGLTVLPPLLTDEMIAQYTSALLAGTITSGWTFGAGAALQIPFAMQMAYRFNGIGVTQNVLYENQKLIANQFNSAIGKIQDSLSSTASALGKLQDVVNQNAQALNTLVKQLSSNFGAISSVLNDILSRLDPPEAEVQIDRLITGRLQSLQTYVTQQLIRAAEIRASANLAATKMSECVLGQSKRVDFCGKGYHLMSFPQSAPHGVVFLHVTYVPAQEKNFTTAPAICHDGKAHFPREGVFVSNGTHWFVTQRNFYEPQIITTDNTFVSGNCDVVIGIVNNTVYDPLQPELDSFKEELDKYFKNHTSPDVDLGDISGINASVVNIQKEIDRLNEVAKNLNESLIDLQELGKYEQGSGYIPEAPRDGQAYVRKDGEWVLLSTFLGRSLEVLFQGPGHHHHHHHHSAWSHPQFEKGGGSGGGGSGGSAWSHPQFEK\n"
     ]
    }
   ],
   "source": [
    "print(record.seq)"
   ]
  }
 ],
 "metadata": {
  "kernelspec": {
   "display_name": "Python 3",
   "language": "python",
   "name": "python3"
  },
  "language_info": {
   "codemirror_mode": {
    "name": "ipython",
    "version": 3
   },
   "file_extension": ".py",
   "mimetype": "text/x-python",
   "name": "python",
   "nbconvert_exporter": "python",
   "pygments_lexer": "ipython3",
   "version": "3.8.2"
  }
 },
 "nbformat": 4,
 "nbformat_minor": 4
}
