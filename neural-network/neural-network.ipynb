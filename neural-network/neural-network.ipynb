{
 "cells": [
  {
   "cell_type": "markdown",
   "metadata": {},
   "source": [
    "# Neural Network Exploration"
   ]
  },
  {
   "cell_type": "markdown",
   "metadata": {},
   "source": [
    "### Neural network\n",
    "\n",
    "It's a type of <b>machine learning</b> which models itself after the human brain, creating an <b>artificial neural network</b> that via an <b>algorithm</b> allows the computer to learn by incorporating new data."
   ]
  },
  {
   "cell_type": "markdown",
   "metadata": {},
   "source": [
    "### Perceptron\n",
    "\n",
    "- The perceptron can be seen as the simplest type of neural network. It's a linear classifier.\n",
    "- It takes binary inputs, $x_1, x_2,\\text{...},x_n$ and produces a single binary output.\n",
    "\n",
    "\\begin{equation}\n",
    "    O=\n",
    "  \\begin{cases}\n",
    "    \\text{0 if } \\sum_{j}w_j x_j\\leq \\text{threshold}\\\\\n",
    "    \\text{1 elif } \\\\\n",
    "    \\end{cases}\n",
    "\\end{equation}\n",
    "\n",
    "We know that $w\\cdot x = \\sum_{j}w_j x_j$ if we consider $w$ and $x$ as vectors that represent respectively weights and inputs. The <b>perceptron bias</b>, we can represent it as the difficulty for the perceptron to output a 1.\n",
    "\n",
    "So, we can write : \n",
    "\n",
    "\\begin{equation}\n",
    "    O=\n",
    "  \\begin{cases}\n",
    "    \\text{0 if } w\\cdot x + \\theta \\leq 0\\\\\n",
    "    \\text{1 elif } \\\\\n",
    "    \\end{cases}\n",
    "\\end{equation}\n"
   ]
  },
  {
   "cell_type": "markdown",
   "metadata": {},
   "source": [
    "### Sigmoid function\n",
    "\n",
    "It's a squashing function, it means it limits the output to a range between 0 and 1.\n",
    "\n",
    "$$f(x)=\\frac{1}{1+e^{-x}}$$\n",
    "\n",
    "So our output will be :\n",
    "\n",
    "$$O=f(w\\cdot x)$$"
   ]
  },
  {
   "cell_type": "code",
   "execution_count": 1,
   "metadata": {},
   "outputs": [],
   "source": [
    "from math import *\n",
    "\n",
    "# Sum of the value by the weight\n",
    "def _sum(C):\n",
    "    return sum(x*w for x,w in C)\n",
    "\n",
    "def sigmoid(x):\n",
    "    return 1/(1+exp(-x))\n",
    "\n",
    "def sigmoid_derivative(x):\n",
    "    return x*(1-x)"
   ]
  },
  {
   "cell_type": "code",
   "execution_count": 2,
   "metadata": {},
   "outputs": [],
   "source": [
    "# Perceptron\n",
    "\n",
    "DATA=[(0,2),(1,6),(1,2),(0,1)]\n",
    "BIAS=3\n",
    "\n",
    "def perceptron(C):\n",
    "    if _sum(C)+BIAS<=0:\n",
    "        return 0\n",
    "    else:\n",
    "        return 1"
   ]
  },
  {
   "cell_type": "code",
   "execution_count": 3,
   "metadata": {},
   "outputs": [
    {
     "data": {
      "text/plain": [
       "1"
      ]
     },
     "execution_count": 3,
     "metadata": {},
     "output_type": "execute_result"
    }
   ],
   "source": [
    "perceptron(DATA)"
   ]
  }
 ],
 "metadata": {
  "kernelspec": {
   "display_name": "Python 3",
   "language": "python",
   "name": "python3"
  },
  "language_info": {
   "codemirror_mode": {
    "name": "ipython",
    "version": 3
   },
   "file_extension": ".py",
   "mimetype": "text/x-python",
   "name": "python",
   "nbconvert_exporter": "python",
   "pygments_lexer": "ipython3",
   "version": "3.8.2"
  }
 },
 "nbformat": 4,
 "nbformat_minor": 4
}
