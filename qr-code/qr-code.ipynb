{
 "cells": [
  {
   "cell_type": "code",
   "execution_count": 1,
   "metadata": {},
   "outputs": [],
   "source": [
    "# Generate QR code\n",
    "import qrcode"
   ]
  },
  {
   "cell_type": "code",
   "execution_count": 2,
   "metadata": {},
   "outputs": [],
   "source": [
    "# Create image\n",
    "def generate(data,img_name=None):\n",
    "    img=qrcode.make(data)\n",
    "    if img_name!=None:\n",
    "        img.save(\"./img/{}\".format(img_name))\n",
    "    return img"
   ]
  },
  {
   "cell_type": "code",
   "execution_count": 3,
   "metadata": {},
   "outputs": [],
   "source": [
    "# Generating simple number sequence\n",
    "def r(x):\n",
    "    return \"\".join([str(i) for i in range(x+1)])"
   ]
  },
  {
   "cell_type": "code",
   "execution_count": 4,
   "metadata": {
    "scrolled": true
   },
   "outputs": [
    {
     "data": {
      "text/plain": [
       "'01234567891011121314151617181920212223242526272829303132333435363738394041424344454647484950'"
      ]
     },
     "execution_count": 4,
     "metadata": {},
     "output_type": "execute_result"
    }
   ],
   "source": [
    "r(50)"
   ]
  },
  {
   "cell_type": "code",
   "execution_count": 5,
   "metadata": {
    "scrolled": false
   },
   "outputs": [
    {
     "data": {
      "image/png": "[encoded data removed]",
      "text/plain": [
       "<qrcode.image.pil.PilImage at 0x7f612c0dcf70>"
      ]
     },
     "execution_count": 5,
     "metadata": {},
     "output_type": "execute_result"
    }
   ],
   "source": [
    "# QR code containing square of '#' of 10 by 5\n",
    "generate((\"#\"*10+'\\n')*5)"
   ]
  },
  {
   "cell_type": "code",
   "execution_count": 7,
   "metadata": {},
   "outputs": [
    {
     "data": {
      "image/png": "[encoded data removed]",
      "text/plain": [
       "<qrcode.image.pil.PilImage at 0x7f612c0fb8b0>"
      ]
     },
     "execution_count": 7,
     "metadata": {},
     "output_type": "execute_result"
    }
   ],
   "source": [
    "# Null data\n",
    "generate(\"\\x00\"*2000)"
   ]
  },
  {
   "cell_type": "code",
   "execution_count": 8,
   "metadata": {
    "scrolled": false
   },
   "outputs": [],
   "source": [
    "# open(\"./img/r50\",\"rb\").read()"
   ]
  },
  {
   "cell_type": "code",
   "execution_count": 9,
   "metadata": {},
   "outputs": [],
   "source": [
    "# Reading QR code from image\n",
    "import cv2"
   ]
  },
  {
   "cell_type": "code",
   "execution_count": 10,
   "metadata": {},
   "outputs": [],
   "source": [
    "# x -> image name\n",
    "def output_data(x):\n",
    "    detector = cv2.QRCodeDetector()\n",
    "    img = cv2.imread(x)\n",
    "    return detector.detectAndDecode(img)"
   ]
  },
  {
   "cell_type": "code",
   "execution_count": 11,
   "metadata": {
    "scrolled": true
   },
   "outputs": [],
   "source": [
    "# Data decoded from QR code                         | data\n",
    "# Array of vertices of the found QR code quadrangle | bbox\n",
    "# Rectified and binarized QR code                   | straight_qrcode\n",
    "\n",
    "def read(x):\n",
    "    data, bbox, straight_qrcode=output_data(x)\n",
    "    if bbox is None:\n",
    "        return False\n",
    "    return data"
   ]
  },
  {
   "cell_type": "code",
   "execution_count": 12,
   "metadata": {},
   "outputs": [
    {
     "data": {
      "text/plain": [
       "202"
      ]
     },
     "execution_count": 12,
     "metadata": {},
     "output_type": "execute_result"
    }
   ],
   "source": [
    "generate(r(103),\"r103\")\n",
    "\n",
    "len(read(\"./img/r103\"))\n",
    "# From observations, it seems to return empty string (data=\"\") when:\n",
    "# Data contained in QR code exceeds 202 bytes"
   ]
  },
  {
   "cell_type": "code",
   "execution_count": 13,
   "metadata": {},
   "outputs": [
    {
     "data": {
      "image/png": "[encoded data removed]",
      "text/plain": [
       "<qrcode.image.pil.PilImage at 0x7f612c08e730>"
      ]
     },
     "execution_count": 13,
     "metadata": {},
     "output_type": "execute_result"
    }
   ],
   "source": [
    "# Fuzzing/Fun with QR code outputs\n",
    "# Produces 'fuzz1' with 'fuzz1' decoded data\n",
    "\n",
    "generate(\"generate('fuzz1','fuzz1')\",\"fuzz1\")\n",
    "generate(read(\"./img/fuzz1\"),\"fuzz1\")\n",
    "\n",
    "# Both 'fuzz1' have same content"
   ]
  },
  {
   "cell_type": "code",
   "execution_count": 14,
   "metadata": {},
   "outputs": [
    {
     "data": {
      "text/plain": [
       "(<qrcode.image.pil.PilImage at 0x7f612c0c3a30>, 'fuzz1')"
      ]
     },
     "execution_count": 14,
     "metadata": {},
     "output_type": "execute_result"
    }
   ],
   "source": [
    "# Producing QR code from QR code decoded data\n",
    "# Result:\n",
    "# - It produces 'fuzz2' from 'fuzz1' output\n",
    "# - 'fuzz1' is the same as 'fuzz2'\n",
    "\n",
    "generate(\"\"\"generate(\"generate('fuzz1','fuzz1')\",'fuzz2'),'fuzz1'\"\"\",\"fuzz2\")\n",
    "# read(\"./img/fuzz2\")\n",
    "eval(read(\"./img/fuzz2\"))"
   ]
  }
 ],
 "metadata": {
  "kernelspec": {
   "display_name": "Python 3",
   "language": "python",
   "name": "python3"
  },
  "language_info": {
   "codemirror_mode": {
    "name": "ipython",
    "version": 3
   },
   "file_extension": ".py",
   "mimetype": "text/x-python",
   "name": "python",
   "nbconvert_exporter": "python",
   "pygments_lexer": "ipython3",
   "version": "3.8.2"
  }
 },
 "nbformat": 4,
 "nbformat_minor": 4
}
