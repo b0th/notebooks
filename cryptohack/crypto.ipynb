{
 "cells": [
  {
   "cell_type": "markdown",
   "metadata": {},
   "source": [
    "# Cryptography challenges\n",
    "\n",
    "### https://cryptohack.org/"
   ]
  },
  {
   "cell_type": "markdown",
   "metadata": {},
   "source": [
    "## General"
   ]
  },
  {
   "cell_type": "markdown",
   "metadata": {},
   "source": [
    "### Encoding"
   ]
  },
  {
   "cell_type": "markdown",
   "metadata": {},
   "source": [
    "#### Ascii"
   ]
  },
  {
   "cell_type": "code",
   "execution_count": 1,
   "metadata": {},
   "outputs": [],
   "source": [
    "from typing import *\n",
    "import base64"
   ]
  },
  {
   "cell_type": "code",
   "execution_count": 2,
   "metadata": {},
   "outputs": [
    {
     "data": {
      "text/plain": [
       "'crypto{ASCII_pr1nt4bl3}'"
      ]
     },
     "execution_count": 2,
     "metadata": {},
     "output_type": "execute_result"
    }
   ],
   "source": [
    "data = [99, 114, 121, 112, 116, 111, 123, 65, 83, 67, 73, 73, 95, 112, 114, 49, 110, 116, 52, 98, 108, 51, 125]\n",
    "\n",
    "def solve(char_array: List[str]) -> str:\n",
    "    return \"\".join(chr(i) for i in char_array)\n",
    "\n",
    "solve(data)"
   ]
  },
  {
   "cell_type": "markdown",
   "metadata": {},
   "source": [
    "#### Hex"
   ]
  },
  {
   "cell_type": "code",
   "execution_count": 3,
   "metadata": {},
   "outputs": [
    {
     "data": {
      "text/plain": [
       "'crypto{You_will_be_working_with_hex_strings_a_lot}'"
      ]
     },
     "execution_count": 3,
     "metadata": {},
     "output_type": "execute_result"
    }
   ],
   "source": [
    "data = \"63727970746f7b596f755f77696c6c5f62655f776f726b696e675f776974685f6865785f737472696e67735f615f6c6f747d\"\n",
    "\n",
    "def _split(data: str, space: int) -> List[str]:\n",
    "    return [data[i:i+space] for i in range(0, len(data) - 1, space)]\n",
    "\n",
    "def resolve(data: List[str]) -> str:\n",
    "    return \"\".join(list(map(lambda x: chr(int(x, 16)), data)))\n",
    "\n",
    "resolve(_split(data, 2))"
   ]
  },
  {
   "cell_type": "markdown",
   "metadata": {},
   "source": [
    "#### Base64"
   ]
  },
  {
   "cell_type": "code",
   "execution_count": 4,
   "metadata": {},
   "outputs": [
    {
     "data": {
      "text/plain": [
       "'crypto/Base+64+Encoding+is+Web+Safe/'"
      ]
     },
     "execution_count": 4,
     "metadata": {},
     "output_type": "execute_result"
    }
   ],
   "source": [
    "data = \"72bca9b68fc16ac7beeb8f849dca1d8a783e8acf9679bf9269f7bf\"\n",
    "\n",
    "base64.b64encode(bytes.fromhex(data)).decode()"
   ]
  },
  {
   "cell_type": "markdown",
   "metadata": {},
   "source": [
    "#### Bytes and Big Integers"
   ]
  },
  {
   "cell_type": "code",
   "execution_count": 5,
   "metadata": {},
   "outputs": [
    {
     "data": {
      "text/plain": [
       "'crypto{3nc0d1n6_4ll_7h3_w4y_d0wn}'"
      ]
     },
     "execution_count": 5,
     "metadata": {},
     "output_type": "execute_result"
    }
   ],
   "source": [
    "data = \"11515195063862318899931685488813747395775516287289682636499965282714637259206269\"\n",
    "\n",
    "def solve(data: str) -> str:\n",
    "    return \"\".join(chr(int(x, 16)) for x in _split(str(hex(int(data)))[2:], 2))\n",
    "\n",
    "solve(data)"
   ]
  },
  {
   "cell_type": "markdown",
   "metadata": {},
   "source": [
    "#### Encoding Challenge\n",
    "\n",
    "Useless"
   ]
  },
  {
   "cell_type": "markdown",
   "metadata": {},
   "source": [
    "### XOR"
   ]
  },
  {
   "cell_type": "markdown",
   "metadata": {},
   "source": [
    "#### XOR Starter"
   ]
  },
  {
   "cell_type": "code",
   "execution_count": 6,
   "metadata": {},
   "outputs": [
    {
     "data": {
      "text/plain": [
       "'aloha'"
      ]
     },
     "execution_count": 6,
     "metadata": {},
     "output_type": "execute_result"
    }
   ],
   "source": [
    "data = \"label\"\n",
    "\n",
    "def solve(data: str) -> str:\n",
    "    return \"\".join(chr(ord(x)^13) for x in data)\n",
    "\n",
    "solve(data)"
   ]
  },
  {
   "cell_type": "markdown",
   "metadata": {},
   "source": [
    "#### XOR Properties"
   ]
  },
  {
   "cell_type": "markdown",
   "metadata": {},
   "source": [
    "    KEY1 = a6c8b6733c9b22de7bc0253266a3867df55acde8635e19c73313\n",
    "    KEY2 ^ KEY1 = 37dcb292030faa90d07eec17e3b1c6d8daf94c35d4c9191a5e1e\n",
    "    KEY2 ^ KEY3 = c1545756687e7573db23aa1c3452a098b71a7fbf0fddddde5fc1\n",
    "    FLAG ^ KEY1 ^ KEY3 ^ KEY2 = 04ee9855208a2cd59091d04767ae47963170d1660df7f56f5faf"
   ]
  },
  {
   "cell_type": "code",
   "execution_count": 7,
   "metadata": {},
   "outputs": [
    {
     "data": {
      "text/plain": [
       "'crypto{x0r_i5_ass0c1at1v3}'"
      ]
     },
     "execution_count": 7,
     "metadata": {},
     "output_type": "execute_result"
    }
   ],
   "source": [
    "from pwn import xor\n",
    "from binascii import unhexlify  \n",
    "\n",
    "KEY1 = bytes.fromhex(\"a6c8b6733c9b22de7bc0253266a3867df55acde8635e19c73313\")\n",
    "KEY2_KEY1 = bytes.fromhex(\"37dcb292030faa90d07eec17e3b1c6d8daf94c35d4c9191a5e1e\")\n",
    "KEY2_KEY3 = bytes.fromhex(\"c1545756687e7573db23aa1c3452a098b71a7fbf0fddddde5fc1\")\n",
    "FLAG_KEY1_KEY2_KEY3 = bytes.fromhex(\"04ee9855208a2cd59091d04767ae47963170d1660df7f56f5faf\")\n",
    "\n",
    "KEY2 = xor(KEY1, KEY2_KEY1)\n",
    "KEY3 = xor(KEY2, KEY2_KEY3)\n",
    "FLAG = xor(KEY1 , KEY2, KEY3, FLAG_KEY1_KEY2_KEY3)\n",
    "FLAG.decode()"
   ]
  },
  {
   "cell_type": "markdown",
   "metadata": {},
   "source": [
    "#### Favorite byte"
   ]
  },
  {
   "cell_type": "code",
   "execution_count": 8,
   "metadata": {},
   "outputs": [
    {
     "data": {
      "text/plain": [
       "'crypto{0x10_15_my_f4v0ur173_by7e}'"
      ]
     },
     "execution_count": 8,
     "metadata": {},
     "output_type": "execute_result"
    }
   ],
   "source": [
    "data = \"73626960647f6b206821204f21254f7d694f7624662065622127234f726927756d\"\n",
    "def solve() -> str:\n",
    "    ret: str\n",
    "    for i in range(0xff):\n",
    "        ret = xor(bytes.fromhex(data), i).decode()\n",
    "        if \"crypto\" in ret: return ret\n",
    "    return \"\"\n",
    "\n",
    "solve()"
   ]
  },
  {
   "cell_type": "markdown",
   "metadata": {},
   "source": [
    "#### You either know, XOR you don't"
   ]
  },
  {
   "cell_type": "code",
   "execution_count": 9,
   "metadata": {},
   "outputs": [
    {
     "name": "stdout",
     "output_type": "stream",
     "text": [
      "myXORke\u000eGgf\u0002DFWg)a|Lp\u001aWCFTX\u000fS[UQ\u0011O@\u0003EF(euk\n"
     ]
    },
    {
     "data": {
      "text/plain": [
       "'crypto{1f_y0u_Kn0w_En0uGH_y0u_Kn0w_1t_4ll}'"
      ]
     },
     "execution_count": 9,
     "metadata": {},
     "output_type": "execute_result"
    }
   ],
   "source": [
    "data = \"0e0b213f26041e480b26217f27342e175d0e070a3c5b103e2526217f27342e175d0e077e263451150104\"\n",
    "\n",
    "def solve(key: str) -> str:\n",
    "    return xor(bytes.fromhex(data), key).decode()\n",
    "\n",
    "print(solve(\"crypto{FLAG}\"))\n",
    "solve(\"myXORkey\")"
   ]
  },
  {
   "cell_type": "markdown",
   "metadata": {},
   "source": [
    "#### Lemur XOR"
   ]
  },
  {
   "attachments": {
    "result.png": {
     "image/png": "[encoded data removed]"
    }
   },
   "cell_type": "markdown",
   "metadata": {},
   "source": [
    "    convert resources/lemur.png resources/flag.png -evaluate-sequence xor result.png\n",
    "    \n",
    "![result.png](attachment:result.png)"
   ]
  },
  {
   "cell_type": "markdown",
   "metadata": {},
   "source": [
    "### Mathematics"
   ]
  },
  {
   "cell_type": "markdown",
   "metadata": {},
   "source": [
    "#### Greatest Common Divisor"
   ]
  },
  {
   "cell_type": "code",
   "execution_count": 10,
   "metadata": {},
   "outputs": [
    {
     "data": {
      "text/plain": [
       "1512"
      ]
     },
     "execution_count": 10,
     "metadata": {},
     "output_type": "execute_result"
    }
   ],
   "source": [
    "# Euclid algorithm\n",
    "def _gcd(a: int, b: int) -> int:\n",
    "    while a != b:\n",
    "        if a > b:\n",
    "            a = a - b\n",
    "        else:\n",
    "            b = b - a\n",
    "    return a\n",
    "\n",
    "_gcd(66528, 52920)"
   ]
  },
  {
   "cell_type": "markdown",
   "metadata": {},
   "source": [
    "#### Extended GCD"
   ]
  },
  {
   "cell_type": "markdown",
   "metadata": {},
   "source": [
    "    a * u + b * v = gcd(a,b)\n"
   ]
  },
  {
   "cell_type": "code",
   "execution_count": 11,
   "metadata": {},
   "outputs": [
    {
     "data": {
      "text/plain": [
       "(10245, -8404)"
      ]
     },
     "execution_count": 11,
     "metadata": {},
     "output_type": "execute_result"
    }
   ],
   "source": [
    "# Extended Euclid algorithm\n",
    "def extended_gcd(a: int, b: int) -> (int, int):\n",
    "    if b == 0:\n",
    "        return (1, 0)\n",
    "    else:\n",
    "        (u, v) = extended_gcd(b, a % b)\n",
    "        return (v, u - (a // b) * v)\n",
    "\n",
    "extended_gcd(26513, 32321)"
   ]
  },
  {
   "cell_type": "markdown",
   "metadata": {},
   "source": [
    "#### Modular Arithmetic 1"
   ]
  },
  {
   "cell_type": "code",
   "execution_count": 12,
   "metadata": {},
   "outputs": [
    {
     "data": {
      "text/plain": [
       "4"
      ]
     },
     "execution_count": 12,
     "metadata": {},
     "output_type": "execute_result"
    }
   ],
   "source": [
    "def is_int_congruence(a: int, b: int, c: int) -> bool:\n",
    "    return a % c == b % c\n",
    "\n",
    "def bruteforce_congruence(a: int, c: int) -> int:\n",
    "    b: int = 1\n",
    "    while not is_int_congruence(a, b, c):\n",
    "        b +=1\n",
    "    return b\n",
    "\n",
    "min(bruteforce_congruence(11, 6), bruteforce_congruence(8146798528947, 17))"
   ]
  },
  {
   "cell_type": "markdown",
   "metadata": {},
   "source": [
    "#### Modular Arithmetic 2"
   ]
  },
  {
   "cell_type": "code",
   "execution_count": 13,
   "metadata": {},
   "outputs": [
    {
     "data": {
      "text/plain": [
       "1"
      ]
     },
     "execution_count": 13,
     "metadata": {},
     "output_type": "execute_result"
    }
   ],
   "source": [
    "27324678765465536**65536 % 65537"
   ]
  },
  {
   "cell_type": "markdown",
   "metadata": {},
   "source": [
    "#### Modular Inverting"
   ]
  },
  {
   "cell_type": "code",
   "execution_count": 14,
   "metadata": {},
   "outputs": [
    {
     "data": {
      "text/plain": [
       "9"
      ]
     },
     "execution_count": 14,
     "metadata": {},
     "output_type": "execute_result"
    }
   ],
   "source": [
    "# 3 * d ≡ 1 mod 13\n",
    "# (3 * d) % 13 == 1 % 13\n",
    "# 27 % 13 = 1\n",
    "# d = 9\n",
    "\n",
    "def solve() -> int:\n",
    "    d: int = 0\n",
    "    while not is_int_congruence(3 * d, 1, 13):\n",
    "        d += 1\n",
    "    return d\n",
    "\n",
    "solve()"
   ]
  },
  {
   "cell_type": "markdown",
   "metadata": {},
   "source": [
    "### Data formats"
   ]
  },
  {
   "cell_type": "markdown",
   "metadata": {},
   "source": [
    " #### Privacy-Enhanced Mail?"
   ]
  },
  {
   "cell_type": "code",
   "execution_count": 16,
   "metadata": {},
   "outputs": [],
   "source": [
    "def func():\n",
    "    pass"
   ]
  },
  {
   "cell_type": "markdown",
   "metadata": {},
   "source": [
    "## Mathematics"
   ]
  },
  {
   "cell_type": "markdown",
   "metadata": {},
   "source": [
    "### Modular math"
   ]
  },
  {
   "cell_type": "markdown",
   "metadata": {},
   "source": [
    "#### Quadratic Residues"
   ]
  },
  {
   "cell_type": "code",
   "execution_count": 15,
   "metadata": {},
   "outputs": [
    {
     "data": {
      "text/plain": [
       "8"
      ]
     },
     "execution_count": 15,
     "metadata": {},
     "output_type": "execute_result"
    }
   ],
   "source": [
    "ints: List[int] = [14, 6, 11]\n",
    "\n",
    "def is_quadratic_residue(a: int, x: int, p: int) -> bool:\n",
    "    return (a**2) % p == x\n",
    "\n",
    "def square_root(x: int, p: int) -> int:\n",
    "    for i in range(1, p):\n",
    "        if is_quadratic_residue(i, x, p):\n",
    "            return i\n",
    "    return 0\n",
    "\n",
    "def solve(ints: List[int]) -> int:\n",
    "    return list(filter(lambda x: x, [square_root(x, 29) for x in ints]))[0]\n",
    "\n",
    "solve(ints)"
   ]
  },
  {
   "cell_type": "markdown",
   "metadata": {},
   "source": [
    "#### Legendre Symbol"
   ]
  },
  {
   "cell_type": "markdown",
   "metadata": {},
   "source": [
    "    Working"
   ]
  },
  {
   "cell_type": "code",
   "execution_count": null,
   "metadata": {},
   "outputs": [],
   "source": []
  }
 ],
 "metadata": {
  "kernelspec": {
   "display_name": "Python 3",
   "language": "python",
   "name": "python3"
  },
  "language_info": {
   "codemirror_mode": {
    "name": "ipython",
    "version": 3
   },
   "file_extension": ".py",
   "mimetype": "text/x-python",
   "name": "python",
   "nbconvert_exporter": "python",
   "pygments_lexer": "ipython3",
   "version": "3.8.5"
  }
 },
 "nbformat": 4,
 "nbformat_minor": 4
}
