{
 "cells": [
  {
   "cell_type": "code",
   "execution_count": 13,
   "metadata": {},
   "outputs": [],
   "source": [
    "# Data compression\n",
    "# Entropy -> Representation of randomness or disorder of a system\n",
    "\n",
    "from math import *\n",
    "\n",
    "# Entropy defined by Shannon\n",
    "def H(P):\n",
    "    \"\"\"\n",
    "    S    -> Set of possible states\n",
    "    P    -> Set of probability for each state\n",
    "    p(s) -> probability of state s in S\n",
    "    If we know exactly what state the system is -> H(S) returns 0\n",
    "    In this context:\n",
    "        - A \"state\" is a \"message\", so S is a set of possible messages, then p(s) is the probability of message\n",
    "        - Every messages are supposed to have the same lenght\n",
    "    \"\"\"\n",
    "    \n",
    "    return sum([p*log((1/p),2) for p in P])"
   ]
  },
  {
   "cell_type": "code",
   "execution_count": 14,
   "metadata": {},
   "outputs": [
    {
     "data": {
      "text/plain": [
       "2.25"
      ]
     },
     "execution_count": 14,
     "metadata": {},
     "output_type": "execute_result"
    }
   ],
   "source": [
    "H([0.25,0.25,0.25,0.125,0.125])"
   ]
  },
  {
   "cell_type": "code",
   "execution_count": 15,
   "metadata": {},
   "outputs": [
    {
     "data": {
      "text/plain": [
       "2.0"
      ]
     },
     "execution_count": 15,
     "metadata": {},
     "output_type": "execute_result"
    }
   ],
   "source": [
    "H([0.5,0.125,0.125,0.125,0.125])"
   ]
  },
  {
   "cell_type": "code",
   "execution_count": 16,
   "metadata": {},
   "outputs": [
    {
     "data": {
      "text/plain": [
       "1.3112781244591327"
      ]
     },
     "execution_count": 16,
     "metadata": {},
     "output_type": "execute_result"
    }
   ],
   "source": [
    "H([0.75,0.0625,0.0625,0.0625,0.0625])"
   ]
  },
  {
   "cell_type": "code",
   "execution_count": 17,
   "metadata": {},
   "outputs": [],
   "source": [
    "# Self information message notion in the context of information theory\n",
    "def i(p):\n",
    "    \"\"\"\n",
    "    p    -> Probability of a state\n",
    "    Self information -> Number of bits of informations contained in a message\n",
    "                     -> Number of bits we should use to encode it\n",
    "    \"\"\"\n",
    "    \n",
    "    return log((1/p),2)"
   ]
  },
  {
   "cell_type": "code",
   "execution_count": 18,
   "metadata": {},
   "outputs": [
    {
     "data": {
      "text/plain": [
       "2.0"
      ]
     },
     "execution_count": 18,
     "metadata": {},
     "output_type": "execute_result"
    }
   ],
   "source": [
    "i(1/4)"
   ]
  },
  {
   "cell_type": "code",
   "execution_count": 19,
   "metadata": {},
   "outputs": [],
   "source": [
    "# A prefix code is a special kind of uniquely decodable code in which no bit-string is a prefixof another one.\n",
    "\n",
    "# Average lenght of the code\n",
    "\n",
    "def len_average(C):\n",
    "    \"\"\"\n",
    "    C    -> Prefix code (Set of codewords)\n",
    "    l(w) -> Lenght of the codeword\n",
    "    \"\"\"\n",
    "    \n",
    "    return sum([s*len(w) for (s,w) in C])"
   ]
  },
  {
   "cell_type": "code",
   "execution_count": 20,
   "metadata": {},
   "outputs": [
    {
     "data": {
      "text/plain": [
       "2.0"
      ]
     },
     "execution_count": 20,
     "metadata": {},
     "output_type": "execute_result"
    }
   ],
   "source": [
    "# Directly replaced the component s by p(s)\n",
    "len_average([(0.25,'1'),(0.5,\"01\"),(0.25,\"000\")])"
   ]
  },
  {
   "cell_type": "code",
   "execution_count": 21,
   "metadata": {},
   "outputs": [],
   "source": [
    "# Huffman Codes\n",
    "\n",
    "# Generate list with every differents chars in the data\n",
    "def parse_bytes(data):\n",
    "    ret=[]\n",
    "    for x in data:\n",
    "        if not x in ret:\n",
    "            ret.append(x)\n",
    "    return ret\n",
    "\n",
    "# Generate dict with char frequencies\n",
    "def frequency(data):\n",
    "    ret=[[x,data.count(x)] for x in parse_bytes(data)]\n",
    "    return sorted(ret,key=lambda x:x[1])\n",
    "    "
   ]
  },
  {
   "cell_type": "code",
   "execution_count": 22,
   "metadata": {},
   "outputs": [
    {
     "data": {
      "text/plain": [
       "[['h', 1],\n",
       " ['e', 1],\n",
       " ['_', 1],\n",
       " ['w', 1],\n",
       " ['r', 1],\n",
       " ['d', 1],\n",
       " ['o', 2],\n",
       " ['l', 3]]"
      ]
     },
     "execution_count": 22,
     "metadata": {},
     "output_type": "execute_result"
    }
   ],
   "source": [
    "frequency(\"hello_world\")"
   ]
  },
  {
   "cell_type": "code",
   "execution_count": 25,
   "metadata": {},
   "outputs": [],
   "source": [
    "DATA=frequency(\"hello_world\")\n",
    "\n",
    "# Generate tree in function of frequencies\n",
    "\n",
    "def tree(Q):\n",
    "    TREE=[tuple(Q)]\n",
    "    while len(Q)>1:        \n",
    "        merge=[Q.pop(0) for x in range(2)]\n",
    "        ret=['',0]\n",
    "        for x in merge:\n",
    "            for y in range(2):\n",
    "                ret[y]+=x[y]\n",
    "        \n",
    "        Q.append(ret)\n",
    "        Q.sort(key=lambda x:x[1])\n",
    "        TREE.append(tuple(Q))\n",
    "    return TREE\n",
    "            "
   ]
  },
  {
   "cell_type": "code",
   "execution_count": 26,
   "metadata": {
    "scrolled": true
   },
   "outputs": [
    {
     "data": {
      "text/plain": [
       "[(['h', 1],\n",
       "  ['e', 1],\n",
       "  ['_', 1],\n",
       "  ['w', 1],\n",
       "  ['r', 1],\n",
       "  ['d', 1],\n",
       "  ['o', 2],\n",
       "  ['l', 3]),\n",
       " (['_', 1], ['w', 1], ['r', 1], ['d', 1], ['o', 2], ['he', 2], ['l', 3]),\n",
       " (['r', 1], ['d', 1], ['o', 2], ['he', 2], ['_w', 2], ['l', 3]),\n",
       " (['o', 2], ['he', 2], ['_w', 2], ['rd', 2], ['l', 3]),\n",
       " (['_w', 2], ['rd', 2], ['l', 3], ['ohe', 4]),\n",
       " (['l', 3], ['ohe', 4], ['_wrd', 4]),\n",
       " (['_wrd', 4], ['lohe', 7]),\n",
       " (['_wrdlohe', 11],)]"
      ]
     },
     "execution_count": 26,
     "metadata": {},
     "output_type": "execute_result"
    }
   ],
   "source": [
    "tree(DATA)"
   ]
  },
  {
   "cell_type": "code",
   "execution_count": null,
   "metadata": {},
   "outputs": [],
   "source": [
    "def "
   ]
  }
 ],
 "metadata": {
  "kernelspec": {
   "display_name": "Python 3",
   "language": "python",
   "name": "python3"
  },
  "language_info": {
   "codemirror_mode": {
    "name": "ipython",
    "version": 3
   },
   "file_extension": ".py",
   "mimetype": "text/x-python",
   "name": "python",
   "nbconvert_exporter": "python",
   "pygments_lexer": "ipython3",
   "version": "3.8.2"
  }
 },
 "nbformat": 4,
 "nbformat_minor": 4
}
