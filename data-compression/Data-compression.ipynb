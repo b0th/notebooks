{
 "cells": [
  {
   "cell_type": "markdown",
   "metadata": {},
   "source": [
    "# Data Compression Exploration\n",
    "\n",
    "In this notebook we are defining some basics concepts and implementing"
   ]
  },
  {
   "cell_type": "markdown",
   "metadata": {},
   "source": [
    "### Entropy \n",
    "Representation of randomness or disorder of a system"
   ]
  },
  {
   "cell_type": "code",
   "execution_count": 1,
   "metadata": {},
   "outputs": [],
   "source": [
    "from math import *\n",
    "\n",
    "# Entropy defined by Shannon\n",
    "def H(P):\n",
    "    \"\"\"\n",
    "    S    -> Set of possible states\n",
    "    P    -> Set of probability for each state\n",
    "    p(s) -> probability of state s in S\n",
    "    If we know exactly what state the system is -> H(S) returns 0\n",
    "    In this context:\n",
    "        - A \"state\" is a \"message\", so S is a set of possible messages, then p(s) is the probability of message\n",
    "        - Every messages are supposed to have the same lenght\n",
    "    \"\"\"\n",
    "    \n",
    "    return sum([p*log((1/p),2) for p in P])"
   ]
  },
  {
   "cell_type": "code",
   "execution_count": 2,
   "metadata": {},
   "outputs": [
    {
     "data": {
      "text/plain": [
       "2.25"
      ]
     },
     "execution_count": 2,
     "metadata": {},
     "output_type": "execute_result"
    }
   ],
   "source": [
    "H([0.25,0.25,0.25,0.125,0.125])"
   ]
  },
  {
   "cell_type": "code",
   "execution_count": 3,
   "metadata": {},
   "outputs": [
    {
     "data": {
      "text/plain": [
       "2.0"
      ]
     },
     "execution_count": 3,
     "metadata": {},
     "output_type": "execute_result"
    }
   ],
   "source": [
    "H([0.5,0.125,0.125,0.125,0.125])"
   ]
  },
  {
   "cell_type": "code",
   "execution_count": 4,
   "metadata": {},
   "outputs": [
    {
     "data": {
      "text/plain": [
       "1.3112781244591327"
      ]
     },
     "execution_count": 4,
     "metadata": {},
     "output_type": "execute_result"
    }
   ],
   "source": [
    "H([0.75,0.0625,0.0625,0.0625,0.0625])"
   ]
  },
  {
   "cell_type": "markdown",
   "metadata": {},
   "source": [
    "### Self information\n",
    "Number of bits of informations contained in a message and we should use to encode it"
   ]
  },
  {
   "cell_type": "code",
   "execution_count": 5,
   "metadata": {},
   "outputs": [],
   "source": [
    "def i(p):\n",
    "    \"\"\"p -> Probability of a state\"\"\"\n",
    "    \n",
    "    return log((1/p),2)"
   ]
  },
  {
   "cell_type": "code",
   "execution_count": 6,
   "metadata": {},
   "outputs": [
    {
     "data": {
      "text/plain": [
       "2.0"
      ]
     },
     "execution_count": 6,
     "metadata": {},
     "output_type": "execute_result"
    }
   ],
   "source": [
    "i(1/4)"
   ]
  },
  {
   "cell_type": "markdown",
   "metadata": {},
   "source": [
    "### Prefix code\n",
    "Special kind of uniquely decodable code in which no bit-string is a prefix of another one.\n"
   ]
  },
  {
   "cell_type": "code",
   "execution_count": 7,
   "metadata": {},
   "outputs": [],
   "source": [
    "# Average lenght of the code\n",
    "def len_average(C):\n",
    "    \"\"\"\n",
    "    C    -> Prefix code (Set of codewords)\n",
    "    l(w) -> Lenght of the codeword\n",
    "    \"\"\"\n",
    "    \n",
    "    return sum([s*len(w) for (s,w) in C])"
   ]
  },
  {
   "cell_type": "code",
   "execution_count": 8,
   "metadata": {},
   "outputs": [
    {
     "data": {
      "text/plain": [
       "2.0"
      ]
     },
     "execution_count": 8,
     "metadata": {},
     "output_type": "execute_result"
    }
   ],
   "source": [
    "# Directly replaced the component s by p(s)\n",
    "len_average([(0.25,'1'),(0.5,\"01\"),(0.25,\"000\")])"
   ]
  },
  {
   "cell_type": "markdown",
   "metadata": {},
   "source": [
    "# Huffman codes implementation"
   ]
  },
  {
   "cell_type": "code",
   "execution_count": 9,
   "metadata": {},
   "outputs": [],
   "source": [
    "# Generate list with every differents chars in the data\n",
    "def parse_bytes(data):\n",
    "    ret=[]\n",
    "    for x in data:\n",
    "        if not x in ret:\n",
    "            ret.append(x)\n",
    "    return ret\n",
    "\n",
    "# Generate dict with char frequencies\n",
    "def frequency(data):\n",
    "    ret=[[x,data.count(x)] for x in parse_bytes(data)]\n",
    "    return sorted(ret,key=lambda x:x[1])"
   ]
  },
  {
   "cell_type": "code",
   "execution_count": 10,
   "metadata": {},
   "outputs": [
    {
     "data": {
      "text/plain": [
       "[['h', 1],\n",
       " ['e', 1],\n",
       " ['_', 1],\n",
       " ['w', 1],\n",
       " ['r', 1],\n",
       " ['d', 1],\n",
       " ['o', 2],\n",
       " ['l', 3]]"
      ]
     },
     "execution_count": 10,
     "metadata": {},
     "output_type": "execute_result"
    }
   ],
   "source": [
    "frequency(\"hello_world\")"
   ]
  },
  {
   "cell_type": "code",
   "execution_count": 11,
   "metadata": {},
   "outputs": [],
   "source": [
    "message=\"h24 j'sécurise le sac, pour sortir faut que je dépressurise le sas\"\n",
    "DATA=frequency(message)\n",
    "\n",
    "# Generate tree in function of frequencies / probabilities\n",
    "def tree(Q):\n",
    "    \"\"\"Q -> Priority queue\"\"\"\n",
    "    ret=[tuple(Q)]\n",
    "    while len(Q)>1:\n",
    "        merge=[Q.pop(0) for x in range(2)]\n",
    "        m=['',0] # Merging list\n",
    "        for x in merge:\n",
    "            for y in range(2):\n",
    "                m[y]+=x[y]\n",
    "        Q.append(m)\n",
    "        Q.sort(key=lambda x:x[1])\n",
    "        ret.append(tuple(Q))\n",
    "    return ret[:-1][::-1]"
   ]
  },
  {
   "cell_type": "code",
   "execution_count": 12,
   "metadata": {
    "scrolled": false
   },
   "outputs": [
    {
     "data": {
      "text/plain": [
       "[(['reajéclpo', 28], [\"th24',fsuqdi \", 38]),\n",
       " ([\"th24',fs\", 17], ['uqdi ', 21], ['reajéclpo', 28]),\n",
       " (['re', 13], ['ajéclpo', 15], [\"th24',fs\", 17], ['uqdi ', 21]),\n",
       " (['uqdi', 10], [' ', 11], ['re', 13], ['ajéclpo', 15], [\"th24',fs\", 17]),\n",
       " ([\"th24',f\", 8],\n",
       "  ['s', 9],\n",
       "  ['uqdi', 10],\n",
       "  [' ', 11],\n",
       "  ['re', 13],\n",
       "  ['ajéclpo', 15]),\n",
       " (['ajé', 7],\n",
       "  ['clpo', 8],\n",
       "  [\"th24',f\", 8],\n",
       "  ['s', 9],\n",
       "  ['uqdi', 10],\n",
       "  [' ', 11],\n",
       "  ['re', 13]),\n",
       " (['r', 6],\n",
       "  ['e', 7],\n",
       "  ['ajé', 7],\n",
       "  ['clpo', 8],\n",
       "  [\"th24',f\", 8],\n",
       "  ['s', 9],\n",
       "  ['uqdi', 10],\n",
       "  [' ', 11]),\n",
       " (['u', 5],\n",
       "  ['qdi', 5],\n",
       "  ['r', 6],\n",
       "  ['e', 7],\n",
       "  ['ajé', 7],\n",
       "  ['clpo', 8],\n",
       "  [\"th24',f\", 8],\n",
       "  ['s', 9],\n",
       "  [' ', 11]),\n",
       " (['th2', 4],\n",
       "  [\"4',f\", 4],\n",
       "  ['u', 5],\n",
       "  ['qdi', 5],\n",
       "  ['r', 6],\n",
       "  ['e', 7],\n",
       "  ['ajé', 7],\n",
       "  ['clpo', 8],\n",
       "  ['s', 9],\n",
       "  [' ', 11]),\n",
       " (['cl', 4],\n",
       "  ['po', 4],\n",
       "  ['th2', 4],\n",
       "  [\"4',f\", 4],\n",
       "  ['u', 5],\n",
       "  ['qdi', 5],\n",
       "  ['r', 6],\n",
       "  ['e', 7],\n",
       "  ['ajé', 7],\n",
       "  ['s', 9],\n",
       "  [' ', 11]),\n",
       " (['a', 3],\n",
       "  ['jé', 4],\n",
       "  ['cl', 4],\n",
       "  ['po', 4],\n",
       "  ['th2', 4],\n",
       "  [\"4',f\", 4],\n",
       "  ['u', 5],\n",
       "  ['qdi', 5],\n",
       "  ['r', 6],\n",
       "  ['e', 7],\n",
       "  ['s', 9],\n",
       "  [' ', 11]),\n",
       " (['qd', 2],\n",
       "  ['i', 3],\n",
       "  ['a', 3],\n",
       "  ['jé', 4],\n",
       "  ['cl', 4],\n",
       "  ['po', 4],\n",
       "  ['th2', 4],\n",
       "  [\"4',f\", 4],\n",
       "  ['u', 5],\n",
       "  ['r', 6],\n",
       "  ['e', 7],\n",
       "  ['s', 9],\n",
       "  [' ', 11]),\n",
       " ([\"4'\", 2],\n",
       "  [',f', 2],\n",
       "  ['qd', 2],\n",
       "  ['i', 3],\n",
       "  ['a', 3],\n",
       "  ['jé', 4],\n",
       "  ['cl', 4],\n",
       "  ['po', 4],\n",
       "  ['th2', 4],\n",
       "  ['u', 5],\n",
       "  ['r', 6],\n",
       "  ['e', 7],\n",
       "  ['s', 9],\n",
       "  [' ', 11]),\n",
       " (['t', 2],\n",
       "  ['h2', 2],\n",
       "  [\"4'\", 2],\n",
       "  [',f', 2],\n",
       "  ['qd', 2],\n",
       "  ['i', 3],\n",
       "  ['a', 3],\n",
       "  ['jé', 4],\n",
       "  ['cl', 4],\n",
       "  ['po', 4],\n",
       "  ['u', 5],\n",
       "  ['r', 6],\n",
       "  ['e', 7],\n",
       "  ['s', 9],\n",
       "  [' ', 11]),\n",
       " (['p', 2],\n",
       "  ['o', 2],\n",
       "  ['t', 2],\n",
       "  ['h2', 2],\n",
       "  [\"4'\", 2],\n",
       "  [',f', 2],\n",
       "  ['qd', 2],\n",
       "  ['i', 3],\n",
       "  ['a', 3],\n",
       "  ['jé', 4],\n",
       "  ['cl', 4],\n",
       "  ['u', 5],\n",
       "  ['r', 6],\n",
       "  ['e', 7],\n",
       "  ['s', 9],\n",
       "  [' ', 11]),\n",
       " (['c', 2],\n",
       "  ['l', 2],\n",
       "  ['p', 2],\n",
       "  ['o', 2],\n",
       "  ['t', 2],\n",
       "  ['h2', 2],\n",
       "  [\"4'\", 2],\n",
       "  [',f', 2],\n",
       "  ['qd', 2],\n",
       "  ['i', 3],\n",
       "  ['a', 3],\n",
       "  ['jé', 4],\n",
       "  ['u', 5],\n",
       "  ['r', 6],\n",
       "  ['e', 7],\n",
       "  ['s', 9],\n",
       "  [' ', 11]),\n",
       " (['j', 2],\n",
       "  ['é', 2],\n",
       "  ['c', 2],\n",
       "  ['l', 2],\n",
       "  ['p', 2],\n",
       "  ['o', 2],\n",
       "  ['t', 2],\n",
       "  ['h2', 2],\n",
       "  [\"4'\", 2],\n",
       "  [',f', 2],\n",
       "  ['qd', 2],\n",
       "  ['i', 3],\n",
       "  ['a', 3],\n",
       "  ['u', 5],\n",
       "  ['r', 6],\n",
       "  ['e', 7],\n",
       "  ['s', 9],\n",
       "  [' ', 11]),\n",
       " (['q', 1],\n",
       "  ['d', 1],\n",
       "  ['j', 2],\n",
       "  ['é', 2],\n",
       "  ['c', 2],\n",
       "  ['l', 2],\n",
       "  ['p', 2],\n",
       "  ['o', 2],\n",
       "  ['t', 2],\n",
       "  ['h2', 2],\n",
       "  [\"4'\", 2],\n",
       "  [',f', 2],\n",
       "  ['i', 3],\n",
       "  ['a', 3],\n",
       "  ['u', 5],\n",
       "  ['r', 6],\n",
       "  ['e', 7],\n",
       "  ['s', 9],\n",
       "  [' ', 11]),\n",
       " ([',', 1],\n",
       "  ['f', 1],\n",
       "  ['q', 1],\n",
       "  ['d', 1],\n",
       "  ['j', 2],\n",
       "  ['é', 2],\n",
       "  ['c', 2],\n",
       "  ['l', 2],\n",
       "  ['p', 2],\n",
       "  ['o', 2],\n",
       "  ['t', 2],\n",
       "  ['h2', 2],\n",
       "  [\"4'\", 2],\n",
       "  ['i', 3],\n",
       "  ['a', 3],\n",
       "  ['u', 5],\n",
       "  ['r', 6],\n",
       "  ['e', 7],\n",
       "  ['s', 9],\n",
       "  [' ', 11]),\n",
       " (['4', 1],\n",
       "  [\"'\", 1],\n",
       "  [',', 1],\n",
       "  ['f', 1],\n",
       "  ['q', 1],\n",
       "  ['d', 1],\n",
       "  ['j', 2],\n",
       "  ['é', 2],\n",
       "  ['c', 2],\n",
       "  ['l', 2],\n",
       "  ['p', 2],\n",
       "  ['o', 2],\n",
       "  ['t', 2],\n",
       "  ['h2', 2],\n",
       "  ['i', 3],\n",
       "  ['a', 3],\n",
       "  ['u', 5],\n",
       "  ['r', 6],\n",
       "  ['e', 7],\n",
       "  ['s', 9],\n",
       "  [' ', 11]),\n",
       " (['h', 1],\n",
       "  ['2', 1],\n",
       "  ['4', 1],\n",
       "  [\"'\", 1],\n",
       "  [',', 1],\n",
       "  ['f', 1],\n",
       "  ['q', 1],\n",
       "  ['d', 1],\n",
       "  ['j', 2],\n",
       "  ['é', 2],\n",
       "  ['c', 2],\n",
       "  ['l', 2],\n",
       "  ['p', 2],\n",
       "  ['o', 2],\n",
       "  ['t', 2],\n",
       "  ['i', 3],\n",
       "  ['a', 3],\n",
       "  ['u', 5],\n",
       "  ['r', 6],\n",
       "  ['e', 7],\n",
       "  ['s', 9],\n",
       "  [' ', 11])]"
      ]
     },
     "execution_count": 12,
     "metadata": {},
     "output_type": "execute_result"
    }
   ],
   "source": [
    "TREE=tree(DATA)\n",
    "TREE"
   ]
  },
  {
   "cell_type": "code",
   "execution_count": 13,
   "metadata": {
    "scrolled": false
   },
   "outputs": [
    {
     "data": {
      "text/plain": [
       "{'r': '000',\n",
       " 'e': '001',\n",
       " 'a': '0100',\n",
       " 'j': '01010',\n",
       " 'é': '01011',\n",
       " 'c': '01100',\n",
       " 'l': '01101',\n",
       " 'p': '01110',\n",
       " 'o': '01111',\n",
       " 't': '10000',\n",
       " 'h': '100010',\n",
       " '2': '100011',\n",
       " '4': '100100',\n",
       " \"'\": '100101',\n",
       " ',': '100110',\n",
       " 'f': '100111',\n",
       " 's': '101',\n",
       " 'u': '1100',\n",
       " 'q': '110100',\n",
       " 'd': '110101',\n",
       " 'i': '11011',\n",
       " ' ': '111'}"
      ]
     },
     "execution_count": 13,
     "metadata": {},
     "output_type": "execute_result"
    }
   ],
   "source": [
    "# Generate values [0,1] for each stages of the tree\n",
    "def encode(T):\n",
    "    \"\"\"T -> Tree\"\"\"\n",
    "    U={}\n",
    "    for x in range(len(T)):\n",
    "        for y in range(len(T[x])):\n",
    "            if not T[x][y][0] in U:\n",
    "                U[T[x][y][0]]=str(y%2)\n",
    "                \n",
    "    U=dict(sorted(U.items(),reverse=True ,key=lambda item: len(item[0])))\n",
    "    return U\n",
    "\n",
    "# Build prefix codes dict\n",
    "def build(e):\n",
    "    parsed=parse_bytes(DATA)[0][0]\n",
    "    ret=dict.fromkeys(parsed, '')\n",
    "    for x in parsed:\n",
    "        for k,v in e.items():\n",
    "            if x in k:\n",
    "                ret[x]+=e[k]\n",
    "    return ret\n",
    "                \n",
    "PREFIX_CODE=build(encode(TREE))\n",
    "PREFIX_CODE"
   ]
  },
  {
   "cell_type": "markdown",
   "metadata": {},
   "source": [
    "## Compression"
   ]
  },
  {
   "cell_type": "code",
   "execution_count": 14,
   "metadata": {},
   "outputs": [
    {
     "data": {
      "text/plain": [
       "(\"h24 j'sécurise le sac, pour sortir faut que je dépressurise le sas\",\n",
       " '100010100011100100111010101001011010101101100110000011011101001111011010011111010100011001001101110111001111110000011110101111000100001101100011110011101001100100001111101001100001111010100011111101010101101110000001101101110000011011101001111011010011111010100101')"
      ]
     },
     "execution_count": 14,
     "metadata": {},
     "output_type": "execute_result"
    }
   ],
   "source": [
    "# Generate prefix codes from message\n",
    "def compress(prefix_code):\n",
    "    return \"\".join([prefix_code[x] for x in message])\n",
    "\n",
    "COMPRESSED=compress(PREFIX_CODE)\n",
    "message,COMPRESSED"
   ]
  },
  {
   "cell_type": "markdown",
   "metadata": {},
   "source": [
    "### Compression rate "
   ]
  },
  {
   "cell_type": "code",
   "execution_count": 15,
   "metadata": {},
   "outputs": [
    {
     "data": {
      "text/plain": [
       "50.0"
      ]
     },
     "execution_count": 15,
     "metadata": {},
     "output_type": "execute_result"
    }
   ],
   "source": [
    "len(COMPRESSED)/(len(message)*8) * 100"
   ]
  },
  {
   "cell_type": "markdown",
   "metadata": {},
   "source": [
    "## Decompression"
   ]
  },
  {
   "cell_type": "code",
   "execution_count": 16,
   "metadata": {},
   "outputs": [],
   "source": [
    "# Generate message from prefix codes\n",
    "def decompress(prefix_code):\n",
    "    ret,x=[],0\n",
    "    prefix_code=dict(zip(prefix_code.values(), prefix_code.keys()))\n",
    "    _max=len(max(prefix_code.keys(),key=len))\n",
    "    while x < len(COMPRESSED):\n",
    "        for i in range(_max,0,-1):\n",
    "            if COMPRESSED[x:x+i] in prefix_code:\n",
    "                ret.append(prefix_code[COMPRESSED[x:x+i]])\n",
    "                x+=i\n",
    "                break\n",
    "    return \"\".join(ret) "
   ]
  },
  {
   "cell_type": "code",
   "execution_count": 17,
   "metadata": {},
   "outputs": [
    {
     "data": {
      "text/plain": [
       "\"h24 j'sécurise le sac, pour sortir faut que je dépressurise le sas\""
      ]
     },
     "execution_count": 17,
     "metadata": {},
     "output_type": "execute_result"
    }
   ],
   "source": [
    "decompress(PREFIX_CODE)"
   ]
  }
 ],
 "metadata": {
  "kernelspec": {
   "display_name": "Python 3",
   "language": "python",
   "name": "python3"
  },
  "language_info": {
   "codemirror_mode": {
    "name": "ipython",
    "version": 3
   },
   "file_extension": ".py",
   "mimetype": "text/x-python",
   "name": "python",
   "nbconvert_exporter": "python",
   "pygments_lexer": "ipython3",
   "version": "3.8.2"
  }
 },
 "nbformat": 4,
 "nbformat_minor": 4
}
