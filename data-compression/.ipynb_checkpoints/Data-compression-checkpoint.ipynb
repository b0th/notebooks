{
 "cells": [
  {
   "cell_type": "markdown",
   "metadata": {},
   "source": [
    " # Data Compression Exploration "
   ]
  },
  {
   "cell_type": "markdown",
   "metadata": {},
   "source": [
    "### Entropy (by Shannon)\n",
    "Representation of randomness or disorder of a system."
   ]
  },
  {
   "cell_type": "markdown",
   "metadata": {},
   "source": [
    "- S - Set of possible states\n",
    "\n",
    "- P - Set of probability for each state\n",
    "\n",
    "- p(s) - probability of state s in S\n",
    "\n",
    "If we know exactly what state the system is -> H(S) returns 0.\n",
    "\n",
    "In this context:\n",
    "- A \"state\" is a \"message\", so S is a set of possible messages, then p(s) is the probability of message\n",
    "- Every messages are supposed to have the same lenght\n",
    "\n",
    "$$H(S)=\\sum_{s\\in S} \\log_2 \\frac{1}{p(s)}$$"
   ]
  },
  {
   "cell_type": "code",
   "execution_count": 1,
   "metadata": {},
   "outputs": [],
   "source": [
    "from math import *\n",
    "\n",
    "def H(P):    \n",
    "    return sum([p*log((1/p),2) for p in P])"
   ]
  },
  {
   "cell_type": "code",
   "execution_count": 2,
   "metadata": {},
   "outputs": [
    {
     "data": {
      "text/plain": [
       "2.25"
      ]
     },
     "execution_count": 2,
     "metadata": {},
     "output_type": "execute_result"
    }
   ],
   "source": [
    "H([0.25,0.25,0.25,0.125,0.125])"
   ]
  },
  {
   "cell_type": "code",
   "execution_count": 3,
   "metadata": {},
   "outputs": [
    {
     "data": {
      "text/plain": [
       "2.0"
      ]
     },
     "execution_count": 3,
     "metadata": {},
     "output_type": "execute_result"
    }
   ],
   "source": [
    "H([0.5,0.125,0.125,0.125,0.125])"
   ]
  },
  {
   "cell_type": "code",
   "execution_count": 4,
   "metadata": {},
   "outputs": [
    {
     "data": {
      "text/plain": [
       "1.3112781244591327"
      ]
     },
     "execution_count": 4,
     "metadata": {},
     "output_type": "execute_result"
    }
   ],
   "source": [
    "H([0.75,0.0625,0.0625,0.0625,0.0625])"
   ]
  },
  {
   "cell_type": "markdown",
   "metadata": {},
   "source": [
    "### Self information\n",
    "Number of bits of informations contained in a message and we should use to encode it."
   ]
  },
  {
   "cell_type": "markdown",
   "metadata": {},
   "source": [
    "- p - Probability of a state\n",
    "$$i(s) = \\log_2 \\frac{1}{p(s)}$$\n",
    "Then:\n",
    "$$H(S)=\\sum_{s\\in S} i(s)$$"
   ]
  },
  {
   "cell_type": "code",
   "execution_count": 5,
   "metadata": {},
   "outputs": [],
   "source": [
    "def i(p):    \n",
    "    return log((1/p),2)"
   ]
  },
  {
   "cell_type": "code",
   "execution_count": 6,
   "metadata": {},
   "outputs": [
    {
     "data": {
      "text/plain": [
       "2.0"
      ]
     },
     "execution_count": 6,
     "metadata": {},
     "output_type": "execute_result"
    }
   ],
   "source": [
    "i(1/4)"
   ]
  },
  {
   "cell_type": "markdown",
   "metadata": {},
   "source": [
    "### Prefix code\n",
    "Special kind of uniquely decodable code in which no bit-string is a prefix of another one.\n"
   ]
  },
  {
   "cell_type": "markdown",
   "metadata": {},
   "source": [
    "### Average lenght of code\n",
    "\n",
    "- C - Prefix code (Set of codewords)\n",
    "- l(w) - Lenght of the codeword\n",
    "- p(s) - Probability of a state s\n",
    "\n",
    "$$l_{a}C(C)=\\sum_{(s,w)\\in C}l(w)p(s)$$"
   ]
  },
  {
   "cell_type": "code",
   "execution_count": 7,
   "metadata": {},
   "outputs": [],
   "source": [
    "def len_average(C):    \n",
    "    return sum([s*len(w) for (s,w) in C])"
   ]
  },
  {
   "cell_type": "code",
   "execution_count": 8,
   "metadata": {},
   "outputs": [
    {
     "data": {
      "text/plain": [
       "2.0"
      ]
     },
     "execution_count": 8,
     "metadata": {},
     "output_type": "execute_result"
    }
   ],
   "source": [
    "# Directly replaced the component s by p(s)\n",
    "len_average([(0.25,'1'),(0.5,\"01\"),(0.25,\"000\")])"
   ]
  },
  {
   "cell_type": "markdown",
   "metadata": {},
   "source": [
    "# Huffman Codes Implementation\n",
    "\n",
    "<b>Huffman codes</b> are optimal prefix codes generated from a set ofprobabilities by a particular algo-rithm, the Huffman Coding Algorithm."
   ]
  },
  {
   "cell_type": "code",
   "execution_count": 9,
   "metadata": {},
   "outputs": [],
   "source": [
    "# Generate list with every differents chars in the data\n",
    "def parse_bytes(data):\n",
    "    ret=[]\n",
    "    for x in data:\n",
    "        if not x in ret:\n",
    "            ret.append(x)\n",
    "    return ret\n",
    "\n",
    "# Generate dict with char frequencies\n",
    "def frequency(data):\n",
    "    ret=[[x,data.count(x)] for x in parse_bytes(data)]\n",
    "    return sorted(ret,key=lambda x:x[1])"
   ]
  },
  {
   "cell_type": "code",
   "execution_count": 10,
   "metadata": {},
   "outputs": [
    {
     "data": {
      "text/plain": [
       "[['h', 1],\n",
       " ['e', 1],\n",
       " ['_', 1],\n",
       " ['w', 1],\n",
       " ['r', 1],\n",
       " ['d', 1],\n",
       " ['o', 2],\n",
       " ['l', 3]]"
      ]
     },
     "execution_count": 10,
     "metadata": {},
     "output_type": "execute_result"
    }
   ],
   "source": [
    "frequency(\"hello_world\")"
   ]
  },
  {
   "cell_type": "code",
   "execution_count": 11,
   "metadata": {},
   "outputs": [],
   "source": [
    "message=\"Hello everybody\"\n",
    "DATA=frequency(message)\n",
    "\n",
    "# Generate tree in function of frequencies / probabilities\n",
    "def tree(Q):\n",
    "    \"\"\"Q -> Priority queue\"\"\"\n",
    "    ret=[tuple(Q)]\n",
    "    while len(Q)>1:\n",
    "        merge=[Q.pop(0) for x in range(2)]\n",
    "        m=['',0] # Merging list\n",
    "        for x in merge:\n",
    "            for y in range(2):\n",
    "                m[y]+=x[y]\n",
    "        Q.append(m)\n",
    "        Q.sort(key=lambda x:x[1])\n",
    "        ret.append(tuple(Q))\n",
    "    return ret[:-1][::-1]"
   ]
  },
  {
   "cell_type": "code",
   "execution_count": 12,
   "metadata": {
    "scrolled": false
   },
   "outputs": [
    {
     "data": {
      "text/plain": [
       "[(['elo', 7], ['yH vrbd', 8]),\n",
       " (['yH ', 4], ['vrbd', 4], ['elo', 7]),\n",
       " (['e', 3], ['lo', 4], ['yH ', 4], ['vrbd', 4]),\n",
       " (['vr', 2], ['bd', 2], ['e', 3], ['lo', 4], ['yH ', 4]),\n",
       " (['y', 2], ['H ', 2], ['vr', 2], ['bd', 2], ['e', 3], ['lo', 4]),\n",
       " (['l', 2], ['o', 2], ['y', 2], ['H ', 2], ['vr', 2], ['bd', 2], ['e', 3]),\n",
       " (['b', 1],\n",
       "  ['d', 1],\n",
       "  ['l', 2],\n",
       "  ['o', 2],\n",
       "  ['y', 2],\n",
       "  ['H ', 2],\n",
       "  ['vr', 2],\n",
       "  ['e', 3]),\n",
       " (['v', 1],\n",
       "  ['r', 1],\n",
       "  ['b', 1],\n",
       "  ['d', 1],\n",
       "  ['l', 2],\n",
       "  ['o', 2],\n",
       "  ['y', 2],\n",
       "  ['H ', 2],\n",
       "  ['e', 3]),\n",
       " (['H', 1],\n",
       "  [' ', 1],\n",
       "  ['v', 1],\n",
       "  ['r', 1],\n",
       "  ['b', 1],\n",
       "  ['d', 1],\n",
       "  ['l', 2],\n",
       "  ['o', 2],\n",
       "  ['y', 2],\n",
       "  ['e', 3])]"
      ]
     },
     "execution_count": 12,
     "metadata": {},
     "output_type": "execute_result"
    }
   ],
   "source": [
    "TREE=tree(DATA)\n",
    "TREE"
   ]
  },
  {
   "cell_type": "markdown",
   "metadata": {},
   "source": [
    "### Building optimal prefix codes "
   ]
  },
  {
   "cell_type": "code",
   "execution_count": 13,
   "metadata": {
    "scrolled": false
   },
   "outputs": [
    {
     "data": {
      "text/plain": [
       "{'e': '00',\n",
       " 'l': '010',\n",
       " 'o': '011',\n",
       " 'y': '100',\n",
       " 'H': '1010',\n",
       " ' ': '1011',\n",
       " 'v': '1100',\n",
       " 'r': '1101',\n",
       " 'b': '1110',\n",
       " 'd': '1111'}"
      ]
     },
     "execution_count": 13,
     "metadata": {},
     "output_type": "execute_result"
    }
   ],
   "source": [
    "# Generate values [0,1] for each stages of the tree\n",
    "def encode(T):\n",
    "    \"\"\"T -> Tree\"\"\"\n",
    "    U={}\n",
    "    for x in range(len(T)):\n",
    "        for y in range(len(T[x])):\n",
    "            if not T[x][y][0] in U:\n",
    "                U[T[x][y][0]]=str(y%2)\n",
    "                \n",
    "    U=dict(sorted(U.items(),reverse=True ,key=lambda item: len(item[0])))\n",
    "    return U\n",
    "\n",
    "# Build prefix codes dict\n",
    "def build(e):\n",
    "    parsed=parse_bytes(DATA)[0][0]\n",
    "    ret=dict.fromkeys(parsed, '')\n",
    "    for x in parsed:\n",
    "        for k,v in e.items():\n",
    "            if x in k:\n",
    "                ret[x]+=e[k]\n",
    "    return ret\n",
    "                \n",
    "PREFIX_CODE=build(encode(TREE))\n",
    "PREFIX_CODE"
   ]
  },
  {
   "cell_type": "markdown",
   "metadata": {},
   "source": [
    "## Compression"
   ]
  },
  {
   "cell_type": "code",
   "execution_count": 14,
   "metadata": {},
   "outputs": [
    {
     "data": {
      "text/plain": [
       "('Hello everybody', '101000010010011101100110000110110011100111111100')"
      ]
     },
     "execution_count": 14,
     "metadata": {},
     "output_type": "execute_result"
    }
   ],
   "source": [
    "# Generate prefix codes from message\n",
    "def compress(prefix_code):\n",
    "    return \"\".join([prefix_code[x] for x in message])\n",
    "\n",
    "COMPRESSED=compress(PREFIX_CODE)\n",
    "message,COMPRESSED"
   ]
  },
  {
   "cell_type": "markdown",
   "metadata": {},
   "source": [
    "### Compression rate "
   ]
  },
  {
   "cell_type": "code",
   "execution_count": 15,
   "metadata": {},
   "outputs": [
    {
     "data": {
      "text/plain": [
       "40.0"
      ]
     },
     "execution_count": 15,
     "metadata": {},
     "output_type": "execute_result"
    }
   ],
   "source": [
    "len(COMPRESSED)/(len(message)*8) * 100"
   ]
  },
  {
   "cell_type": "markdown",
   "metadata": {},
   "source": [
    "## Decompression"
   ]
  },
  {
   "cell_type": "code",
   "execution_count": 16,
   "metadata": {},
   "outputs": [],
   "source": [
    "# Generate message from prefix codes\n",
    "def decompress(prefix_code):\n",
    "    ret,x=[],0\n",
    "    prefix_code=dict(zip(prefix_code.values(), prefix_code.keys()))\n",
    "    _max=len(max(prefix_code.keys(),key=len))\n",
    "    while x < len(COMPRESSED):\n",
    "        for i in range(_max,0,-1):\n",
    "            if COMPRESSED[x:x+i] in prefix_code:\n",
    "                ret.append(prefix_code[COMPRESSED[x:x+i]])\n",
    "                x+=i\n",
    "                break\n",
    "    return \"\".join(ret) "
   ]
  },
  {
   "cell_type": "code",
   "execution_count": 17,
   "metadata": {},
   "outputs": [
    {
     "data": {
      "text/plain": [
       "'Hello everybody'"
      ]
     },
     "execution_count": 17,
     "metadata": {},
     "output_type": "execute_result"
    }
   ],
   "source": [
    "decompress(PREFIX_CODE)"
   ]
  },
  {
   "cell_type": "markdown",
   "metadata": {},
   "source": [
    "# Lempel–Ziv–Welch Data Compression Implementation\n",
    "<b>LZW</b> algorithm is a very common compression technique, it's lossless. It has been found in 1984 by Terry <b>W</b>elch. Its a better version of <b>LZ78</b> created in 1978 by Abraham <b>L</b>empel and Jacob <b>Z</b>iv."
   ]
  },
  {
   "cell_type": "markdown",
   "metadata": {},
   "source": [
    "## Algorithm (1)"
   ]
  },
  {
   "cell_type": "code",
   "execution_count": 18,
   "metadata": {},
   "outputs": [],
   "source": [
    "message=\"thisisthethisisthe\""
   ]
  },
  {
   "cell_type": "markdown",
   "metadata": {},
   "source": [
    "## Compression"
   ]
  },
  {
   "cell_type": "code",
   "execution_count": 19,
   "metadata": {},
   "outputs": [],
   "source": [
    "# First value encoded on 9 bits\n",
    "BYTES_VALUE=256\n",
    "\n",
    "def compress(D): # D -> Data\n",
    "    # Index | Output | Dictionnary \n",
    "    x,        O,       ret,          B=0,[],{},BYTES_VALUE\n",
    "    D+=' '\n",
    "    while x<len(D)-1:\n",
    "        check=D[x:x+2]\n",
    "        if not check in ret:\n",
    "            if len(check)<2:\n",
    "                O.append(ord(check))\n",
    "                x+=1\n",
    "                continue\n",
    "            else:\n",
    "                ret[check]=B\n",
    "            O.append(ord(D[x]))\n",
    "        else:\n",
    "            for i in range(2,len(D)):\n",
    "                if not D[x:x+i] in ret:\n",
    "                    O.append(ret[D[x:x+i-1]])\n",
    "                    ret[D[x:x+i]]=B\n",
    "                    x+=i-2\n",
    "                    break\n",
    "        B+=1\n",
    "        x+=1\n",
    "    return O"
   ]
  },
  {
   "cell_type": "code",
   "execution_count": 20,
   "metadata": {
    "scrolled": false
   },
   "outputs": [
    {
     "data": {
      "text/plain": [
       "[116, 104, 105, 115, 258, 256, 101, 256, 258, 260, 104, 101]"
      ]
     },
     "execution_count": 20,
     "metadata": {},
     "output_type": "execute_result"
    }
   ],
   "source": [
    "COMPRESSED=compress(message)\n",
    "COMPRESSED"
   ]
  },
  {
   "cell_type": "markdown",
   "metadata": {},
   "source": [
    "### Compression rate "
   ]
  },
  {
   "cell_type": "code",
   "execution_count": 21,
   "metadata": {},
   "outputs": [
    {
     "data": {
      "text/plain": [
       "75.0"
      ]
     },
     "execution_count": 21,
     "metadata": {},
     "output_type": "execute_result"
    }
   ],
   "source": [
    "((len(COMPRESSED)*9)/(len(message)*8))*100"
   ]
  }
 ],
 "metadata": {
  "kernelspec": {
   "display_name": "Python 3",
   "language": "python",
   "name": "python3"
  },
  "language_info": {
   "codemirror_mode": {
    "name": "ipython",
    "version": 3
   },
   "file_extension": ".py",
   "mimetype": "text/x-python",
   "name": "python",
   "nbconvert_exporter": "python",
   "pygments_lexer": "ipython3",
   "version": "3.8.5"
  }
 },
 "nbformat": 4,
 "nbformat_minor": 4
}
